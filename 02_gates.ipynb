{
 "cells": [
  {
   "cell_type": "markdown",
   "id": "efdb11e5",
   "metadata": {},
   "source": [
    "### Computação Quântica com Qiskit <br> Autor: Jonas Maziero"
   ]
  },
  {
   "cell_type": "markdown",
   "id": "87114fba",
   "metadata": {},
   "source": [
    "# Algumas portas lógicas do IBMQ\n",
    "\n",
    "A descrição das portas lógicas do IBMQ pode ser encontrada em https://qiskit.org/documentation/apidoc/circuit_library.html.\n",
    "\n",
    "Um sumário de operações quânticas pode ser encontrado em https://qiskit.org/documentation/tutorials/circuits/3_summary_of_quantum_operations.html."
   ]
  },
  {
   "cell_type": "markdown",
   "id": "dbfd9c06",
   "metadata": {},
   "source": [
    "## Sobre kets\n",
    "\n",
    "### Base computacional\n",
    "$$|0\\rangle = \\begin{bmatrix} 1 \\\\ 0 \\end{bmatrix}, |1\\rangle = \\begin{bmatrix} 0 \\\\ 1 \\end{bmatrix}$$\n",
    "\n",
    "### Estado geral\n",
    "$$|\\psi\\rangle = \\begin{bmatrix} c_{0} \\\\ c_{1} \\end{bmatrix} = c_{0}\\begin{bmatrix} 1 \\\\ 0 \\end{bmatrix}+c_{1}\\begin{bmatrix} 0 \\\\ 1 \\end{bmatrix} = c_{0}|0\\rangle+c_{1}|1\\rangle$$ com $c_{j}\\in\\mathbb{C}$\n",
    "\n",
    "### Produto tensorial\n",
    "$$|\\psi\\rangle\\otimes|\\psi'\\rangle = \\begin{bmatrix} c_{0} \\\\ c_{1} \\end{bmatrix}\\otimes\\begin{bmatrix} c_{0}' \\\\ c_{1}' \\end{bmatrix} = \\begin{bmatrix} c_{0}c_{0}' \\\\ c_{0}c_{1}' \\\\ c_{1}c_{0}' \\\\ c_{1}c_{1}' \\end{bmatrix}$$\n",
    "\n",
    "Como comentado anteriormente, todos os qubits começam no estado $|0\\rangle$. Ou seja, o estado inicial global é\n",
    "$$|0\\rangle\\otimes|0\\rangle\\otimes\\cdots\\otimes|0\\rangle.$$"
   ]
  },
  {
   "cell_type": "markdown",
   "id": "ecc26769",
   "metadata": {},
   "source": [
    "## Portas lógicas de 1 qubit\n",
    "\n",
    "### NOT ou X\n",
    "$$X=\\begin{bmatrix}0&1\\\\1&0\\end{bmatrix}$$\n",
    "Assim $X|0\\rangle=|1\\rangle$ e $X|1\\rangle=|0\\rangle$\n",
    "\n",
    "### Y\n",
    "$$Y=\\begin{bmatrix}0&-i\\\\i&0\\end{bmatrix}$$\n",
    "Assim $Y|0\\rangle=i|1\\rangle$ e $Y|1\\rangle=-i|0\\rangle$\n",
    "\n",
    "### Z\n",
    "$$Z=\\begin{bmatrix}1&0\\\\0&-1\\end{bmatrix}$$\n",
    "Assim $Z|0\\rangle=|0\\rangle$ e $Z|1\\rangle=-|1\\rangle$\n",
    "\n",
    "Essas portas lógicas são adicionadas ao circuito conforme demonstrado a seguir."
   ]
  },
  {
   "cell_type": "code",
   "execution_count": 3,
   "id": "3c83a206-0154-40fc-985c-6288c4b7cf7d",
   "metadata": {},
   "outputs": [
    {
     "data": {
      "image/png": "[encoded data removed]",
      "text/plain": [
       "<Figure size 370.906x117.056 with 1 Axes>"
      ]
     },
     "execution_count": 3,
     "metadata": {},
     "output_type": "execute_result"
    }
   ],
   "source": [
    "from qiskit import *\n",
    "qr = QuantumRegister(1)\n",
    "qc = QuantumCircuit(qr)\n",
    "qc.x(qr[0])\n",
    "qc.y(qr[0])\n",
    "qc.z(qr[0])\n",
    "qc.draw('mpl')"
   ]
  },
  {
   "cell_type": "markdown",
   "id": "8d242ebc",
   "metadata": {},
   "source": [
    "### Porta de Hadamard\n",
    "Muda da base $\\{|0\\rangle,|1\\rangle\\}$ para a base $\\{|+\\rangle,|-\\rangle\\}$, em que \n",
    "$$|\\pm\\rangle=(|0\\rangle\\pm|1\\rangle)/\\sqrt{2},$$\n",
    "e vice-versa:\n",
    "$$H = \\frac{1}{\\sqrt{2}}\\begin{bmatrix}1&1\\\\1&-1\\end{bmatrix}$$\n",
    "\n",
    "### Porta $U$ (rotação geral)\n",
    "\\begin{align}\n",
    "U(\\theta,\\phi,\\lambda) & = RZ(\\phi)RX(-\\pi/2)RZ(\\theta)RX(\\pi/2)RZ(\\lambda) \\\\\n",
    "& = \\begin{bmatrix} \\cos(\\theta/2) & -e^{i\\lambda}\\sin(\\theta/2) \\\\ e^{i\\phi}\\sin(\\theta/2) & e^{i(\\phi+\\lambda)}\\cos(\\theta/2) \\end{bmatrix}\n",
    "\\end{align}\n",
    "Assim, e.g.,\n",
    "\\begin{align}\n",
    "& U|0\\rangle = \\cos(\\theta/2)|0\\rangle + e^{i\\phi}\\sin(\\theta/2)|1\\rangle, \\\\\n",
    "& U|1\\rangle = -e^{i\\lambda}\\sin(\\theta/2)|0\\rangle + e^{i(\\phi+\\lambda)}\\cos(\\theta/2)|1\\rangle.\n",
    "\\end{align}\n",
    "\n",
    "O código qiskit para implementar essas portas está mostrado abaixo."
   ]
  },
  {
   "cell_type": "code",
   "execution_count": 4,
   "id": "16b8ef79-b61f-4e7b-90e1-d2460bd30b75",
   "metadata": {},
   "outputs": [
    {
     "data": {
      "image/png": "[encoded data removed]",
      "text/plain": [
       "<Figure size 305.727x200.667 with 1 Axes>"
      ]
     },
     "execution_count": 4,
     "metadata": {},
     "output_type": "execute_result"
    }
   ],
   "source": [
    "qr = QuantumRegister(2)\n",
    "qc = QuantumCircuit(qr) # repetir isso para iniciar o circuit quântico sem as portas adicionadas anteriormente\n",
    "qc.h(0) # essa é outra forma mais suscinta de escrever em qual qubit aplicar a porta lógica\n",
    "th, ph, lb = 0.1, 0.2, 0.3 # valores dos parâmetros a serem usados. É possível também declará-los como prâmetros dos CQ\n",
    "qc.u(th,ph,lb, qr[1])\n",
    "qc.draw('mpl')"
   ]
  },
  {
   "cell_type": "markdown",
   "id": "30b8d20b",
   "metadata": {},
   "source": [
    "### Porta $S$ ($S^{\\dagger}$)\n",
    "Essa porta lógica é representada matricialmente por\n",
    "\\begin{align}\n",
    "S = \\begin{bmatrix}1&0\\\\0&i\\end{bmatrix}\\ \\therefore\\ S^{\\dagger} = \\begin{bmatrix}1&0\\\\0&-i\\end{bmatrix},\n",
    "\\end{align}\n",
    "e induz uma fase $\\pi/2$ no estado $|1\\rangle$:\n",
    "\\begin{align}\n",
    "S|0\\rangle=|0\\rangle, S|1\\rangle=i|1\\rangle = e^{i\\pi/2}|1\\rangle.\n",
    "\\end{align}\n",
    "\n",
    "### Porta de fase $P$\n",
    "Essa porta lógica é representada matricialmente por\n",
    "\\begin{align}\n",
    "P(\\theta) = \\begin{bmatrix}1&0\\\\0&e^{i\\theta}\\end{bmatrix}\n",
    "\\end{align}\n",
    "e induz uma fase $\\theta$ no estado $|1\\rangle$:\n",
    "\\begin{align}\n",
    "P(\\theta)|0\\rangle=|0\\rangle, P(\\theta)|1\\rangle = e^{i\\theta}|1\\rangle.\n",
    "\\end{align}"
   ]
  },
  {
   "cell_type": "code",
   "execution_count": 5,
   "id": "6183fe21-2d7d-4b64-94df-82e51dad07fc",
   "metadata": {},
   "outputs": [
    {
     "data": {
      "image/png": "[encoded data removed]",
      "text/plain": [
       "<Figure size 371.107x117.056 with 1 Axes>"
      ]
     },
     "execution_count": 5,
     "metadata": {},
     "output_type": "execute_result"
    }
   ],
   "source": [
    "import math\n",
    "qr = QuantumRegister(1)\n",
    "qc = QuantumCircuit(qr)\n",
    "qc.s(0)\n",
    "th = math.pi\n",
    "qc.p(th, 0)\n",
    "qc.sdg(0)\n",
    "qc.draw('mpl')"
   ]
  },
  {
   "cell_type": "markdown",
   "id": "431c67a6",
   "metadata": {},
   "source": [
    "## Medidas\n",
    "\n",
    "### Medidas na base $\\{|0\\rangle,|1\\rangle\\}$\n",
    "Medidas nessa base, usualmente chamada de base $Z$, são implementadas diretamente no IBMQ.\n",
    "\n",
    "### Medidas na base $\\{|+\\rangle,|-\\rangle\\}$\n",
    "Notamos que\n",
    "\\begin{align}\n",
    "Pr(+|\\psi) = |\\langle +|\\psi\\rangle|^{2} \\equiv |\\langle 0|H|\\psi\\rangle|^{2} =: |\\langle 0|\\psi'\\rangle|^{2} = Pr(0|\\psi')\n",
    "\\end{align}\n",
    "Vemos facilmente que o análog vale para $Pr(-|\\psi)=Pr(1|\\psi')$, com $$|\\psi'\\rangle=H|\\psi\\rangle.$$\n",
    "Portanto, medidas na base $\\{|0\\rangle,|1\\rangle\\}$, usualmente chamada de base $X$, são implementadas aplicando-se uma porta de Hadamard e subsequentemente fzendo-se medida na base $Z$.\n",
    "\n",
    "### Medidas na base $\\{|\\oplus\\rangle,|\\ominus\\rangle\\}$\n",
    "Temos que\n",
    "\\begin{align}\n",
    "& S|+\\rangle = (S|0\\rangle+S|1\\rangle)/\\sqrt{2} = (|0\\rangle+i|1\\rangle)/\\sqrt{2} = |\\oplus\\rangle \\ \\therefore \\langle\\oplus|=\\langle+|S^{\\dagger}=\\langle 0|HS^{\\dagger}, \\\\\n",
    "& S|-\\rangle = (S|0\\rangle-S|1\\rangle)/\\sqrt{2} = (|0\\rangle-i|1\\rangle)/\\sqrt{2} = |\\ominus\\rangle \\ \\therefore \\langle\\ominus|=\\langle-|S^{\\dagger}=\\langle 1|HS^{\\dagger}.\n",
    "\\end{align}\n",
    "Vem assim que\n",
    "\\begin{align}\n",
    "Pr(\\oplus|\\psi) = |\\langle\\oplus|\\psi\\rangle|^{2} \\equiv |\\langle 0|HS^{\\dagger}|\\psi\\rangle|^{2} =: |\\langle 0|\\psi'\\rangle|^{2} = Pr(0|\\psi')\n",
    "\\end{align}\n",
    "com \n",
    "$$|\\psi'\\rangle = HS^{\\dagger}|\\psi\\rangle.$$\n",
    "Analogamente, $Pr(\\ominus|\\psi)=Pr(1|\\psi')$."
   ]
  },
  {
   "cell_type": "code",
   "execution_count": 6,
   "id": "56171e92-2901-4b6f-bb76-1118999f27ff",
   "metadata": {},
   "outputs": [
    {
     "data": {
      "image/png": "[encoded data removed]",
      "text/plain": [
       "<Figure size 556.762x367.889 with 1 Axes>"
      ]
     },
     "execution_count": 6,
     "metadata": {},
     "output_type": "execute_result"
    }
   ],
   "source": [
    "qr = QuantumRegister(3)\n",
    "cr = ClassicalRegister(3)\n",
    "qc = QuantumCircuit(qr,cr)\n",
    "# medida de Z\n",
    "qc.measure(qr[0],cr[0])\n",
    "# medida de X\n",
    "qc.h(1)\n",
    "qc.measure(1,1)\n",
    "# medida de Y\n",
    "qc.sdg(2)\n",
    "qc.h(2)\n",
    "qc.measure(2,2)\n",
    "qc.draw('mpl')"
   ]
  },
  {
   "cell_type": "markdown",
   "id": "c23d9f90",
   "metadata": {},
   "source": [
    "## Portas lógicas de 2 ou mais qubits\n",
    "Em https://qiskit.org/documentation/apidoc/circuit_library.html, você encontrará com incluir várias outras portas controladas.\n",
    "\n",
    "### Control-Not (CNOT=CX)\n",
    "\\begin{align}\n",
    "CNOT_{c\\rightarrow t} = |0\\rangle\\langle 0|\\otimes \\mathbb{I} +  |1\\rangle\\langle 1|\\otimes X\n",
    "\\end{align}\n",
    "Ação da CNOT_12\n",
    "\\begin{align}\n",
    "& CNOT_{c\\rightarrow t}|0\\rangle\\otimes|0\\rangle = |0\\rangle\\langle 0||0\\rangle\\otimes \\mathbb{I}|0\\rangle +  |1\\rangle\\langle 1||0\\rangle\\otimes X|0\\rangle = |0\\rangle\\otimes|0\\rangle, \\\\\n",
    "& CNOT_{c\\rightarrow t}|0\\rangle\\otimes|1\\rangle = |0\\rangle\\otimes|1\\rangle, \\\\\n",
    "& CNOT_{c\\rightarrow t}|1\\rangle\\otimes|0\\rangle = |1\\rangle\\otimes|1\\rangle, \\\\\n",
    "& CNOT_{c\\rightarrow t}|1\\rangle\\otimes|1\\rangle = |1\\rangle\\otimes|0\\rangle.\n",
    "\\end{align}\n",
    "Ou seja,\n",
    "$$CNOT_{c\\rightarrow t}|j\\rangle\\otimes|k\\rangle = |j\\rangle\\otimes|j\\oplus k\\rangle$$"
   ]
  },
  {
   "cell_type": "code",
   "execution_count": 7,
   "id": "75461de9-34f4-4cac-9ddf-363b2fec65e4",
   "metadata": {},
   "outputs": [
    {
     "data": {
      "image/png": "[encoded data removed]",
      "text/plain": [
       "<Figure size 305.727x200.667 with 1 Axes>"
      ]
     },
     "execution_count": 7,
     "metadata": {},
     "output_type": "execute_result"
    }
   ],
   "source": [
    "qr = QuantumRegister(2)\n",
    "qc = QuantumCircuit(qr)\n",
    "qc.cx(qr[0],qr[1])\n",
    "qc.cx(1,0)\n",
    "qc.draw('mpl') # essas 3 cnots são equivalentes à porta swap"
   ]
  },
  {
   "cell_type": "markdown",
   "id": "5454d8b7",
   "metadata": {},
   "source": [
    "### SWAP (troca)\n",
    "\n",
    "Pode ser escrita como\n",
    "$$SWAP = CNOT_{12}\\ CNOT_{21}\\ CNOT_{12}$$\n",
    "Ela troca os estados dos qubits na qual é aplicada.\n",
    "#### Exemplo\n",
    "Considera $|\\Psi\\rangle = (a_{0}|0\\rangle+a_{1}|1\\rangle)\\otimes(b_{0}|0\\rangle+b_{1}|1\\rangle) = a_{0}b_{0}|00\\rangle + a_{0}b_{1}|01\\rangle + a_{1}b_{0}|10\\rangle + a_{1}b_{1}|11\\rangle$. Teremos\n",
    "\\begin{align}\n",
    "SWAP|\\Psi\\rangle & = a_{0}b_{0}CNOT_{12}\\ CNOT_{21}\\ CNOT_{12}|00\\rangle + a_{0}b_{1}CNOT_{12}\\ CNOT_{21}\\ CNOT_{12}|01\\rangle \\\\\n",
    "& \\ + a_{1}b_{0}CNOT_{12}\\ CNOT_{21}\\ CNOT_{12}|10\\rangle + a_{1}b_{1}CNOT_{12}\\ CNOT_{21}\\ CNOT_{12}|11\\rangle \\\\\n",
    "& = a_{0}b_{0}CNOT_{12}\\ CNOT_{21}|00\\rangle + a_{0}b_{1}CNOT_{12}\\ CNOT_{21}|01\\rangle \\\\\n",
    "& \\ + a_{1}b_{0}CNOT_{12}\\ CNOT_{21}|11\\rangle + a_{1}b_{1}CNOT_{12}\\ CNOT_{21}|10\\rangle \\\\\n",
    "& = a_{0}b_{0}CNOT_{12}|00\\rangle + a_{0}b_{1}CNOT_{12}|11\\rangle + a_{1}b_{0}CNOT_{12}|01\\rangle + a_{1}b_{1}CNOT_{12}|10\\rangle \\\\\n",
    "& = a_{0}b_{0}|00\\rangle + a_{0}b_{1}|10\\rangle + a_{1}b_{0}|01\\rangle + a_{1}b_{1}|11\\rangle \\\\\n",
    "& = (b_{0}|0\\rangle + b_{1}|1\\rangle)\\otimes a_{0}|0\\rangle + (b_{0}|0\\rangle + b_{1}|1\\rangle)\\otimes a_{1}|1\\rangle \\\\\n",
    "& = (b_{0}|0\\rangle + b_{1}|1\\rangle)\\otimes(a_{0}|0\\rangle + a_{1}|1\\rangle).\n",
    "\\end{align}"
   ]
  },
  {
   "cell_type": "code",
   "execution_count": 8,
   "id": "a0f8023e-5d20-4bcc-a539-ba4ea3bae0b4",
   "metadata": {},
   "outputs": [
    {
     "data": {
      "image/png": "[encoded data removed]",
      "text/plain": [
       "<Figure size 221.914x200.667 with 1 Axes>"
      ]
     },
     "execution_count": 8,
     "metadata": {},
     "output_type": "execute_result"
    }
   ],
   "source": [
    "qr = QuantumRegister(2)\n",
    "qc = QuantumCircuit(qr)\n",
    "qc.swap(0,1)\n",
    "qc.draw('mpl')"
   ]
  },
  {
   "cell_type": "markdown",
   "id": "ff795a64",
   "metadata": {},
   "source": [
    "### $U$ controlada\n",
    "$$CU(\\theta,\\phi,\\lambda,\\gamma) = |0\\rangle\\langle 0 |\\otimes I + |1\\rangle\\langle 1|\\otimes e^{i\\gamma}U(\\theta,\\phi,\\lambda).$$"
   ]
  },
  {
   "cell_type": "code",
   "execution_count": 9,
   "id": "e3e23982-28f4-4163-aa78-c314e7b278a7",
   "metadata": {},
   "outputs": [
    {
     "data": {
      "image/png": "[encoded data removed]",
      "text/plain": [
       "<Figure size 305.727x200.667 with 1 Axes>"
      ]
     },
     "execution_count": 9,
     "metadata": {},
     "output_type": "execute_result"
    }
   ],
   "source": [
    "qr = QuantumRegister(2)\n",
    "qc = QuantumCircuit(qr)\n",
    "th, ph, lb, ga = 0.1, 0.2, 0.3, 0.4\n",
    "qc.cu(th,ph,lb,ga, 1,0)\n",
    "qc.draw('mpl')"
   ]
  },
  {
   "cell_type": "markdown",
   "id": "1a56b52e",
   "metadata": {},
   "source": [
    "Porta de Toffolli\n",
    "$$C_{CX} = |0\\rangle\\langle 0|\\otimes I_{4} + |1\\rangle\\langle 1|\\otimes C_{x}$$"
   ]
  },
  {
   "cell_type": "markdown",
   "id": "f12f49b2",
   "metadata": {},
   "source": [
    "### Multi-controlled gates\n",
    "\n",
    "Digamos que queremos aplicar a rotação $R_y (\\theta)$ condicionada no estado de 2 qubits. Por exemplo\n",
    "$$C_{R_y(\\theta)}^{02\\rightarrow 1} = |0\\rangle\\langle 0|\\otimes\\mathbb{I}\\otimes|0\\rangle\\langle 0| + |0\\rangle\\langle 0|\\otimes\\mathbb{I}\\otimes|1\\rangle\\langle 1| + |1\\rangle\\langle 1|\\otimes\\mathbb{I}\\otimes|0\\rangle\\langle 0| + |1\\rangle\\langle 1|\\otimes R_y(\\theta)\\otimes|1\\rangle\\langle 1|.$$\n",
    "Essa operação pode ser implementada com o código abaixo."
   ]
  },
  {
   "cell_type": "code",
   "execution_count": 14,
   "id": "affededc",
   "metadata": {},
   "outputs": [],
   "source": [
    "def qc_ry(th):\n",
    "    qr = QuantumRegister(1)\n",
    "    qc = QuantumCircuit(qr, name = 'RY')\n",
    "    qc.ry(th, 0)\n",
    "    return qc"
   ]
  },
  {
   "cell_type": "code",
   "execution_count": 18,
   "id": "3e1f30d1",
   "metadata": {},
   "outputs": [
    {
     "data": {
      "image/png": "[encoded data removed]",
      "text/plain": [
       "<Figure size 240.346x284.278 with 1 Axes>"
      ]
     },
     "execution_count": 18,
     "metadata": {},
     "output_type": "execute_result"
    }
   ],
   "source": [
    "qr = QuantumRegister(3)\n",
    "qc = QuantumCircuit(qr)\n",
    "qc_ry_ = qc_ry(math.pi)\n",
    "ccry = qc_ry_.to_gate().control(2)\n",
    "qc.append(ccry, [0, 2, 1])\n",
    "qc.draw(output = 'mpl')"
   ]
  },
  {
   "cell_type": "markdown",
   "id": "efa7da1a",
   "metadata": {},
   "source": [
    "# Barreiras\n",
    "Seguindo (https://youtu.be/CdoCPz6TC9k), considere o circuito abaixo."
   ]
  },
  {
   "cell_type": "code",
   "execution_count": 19,
   "id": "4d5dfa1c",
   "metadata": {},
   "outputs": [
    {
     "data": {
      "image/png": "[encoded data removed]",
      "text/plain": [
       "<Figure size 352.675x200.667 with 1 Axes>"
      ]
     },
     "execution_count": 19,
     "metadata": {},
     "output_type": "execute_result"
    }
   ],
   "source": [
    "from qiskit import *\n",
    "qc = QuantumCircuit(1, 1)\n",
    "qc.h([0])\n",
    "qc.h([0])\n",
    "qc.measure([0], [0])\n",
    "qc.draw(output = 'mpl')"
   ]
  },
  {
   "cell_type": "markdown",
   "id": "19fb7271",
   "metadata": {},
   "source": [
    "Quando este circuito for enviado para ser executado no chip real, o transpiler notará que $HH=I$ e simplesmente não aplicará nenhuma operação. Ou seja, esse circuito será equivalente a preparar o estado $|0\\rangle$ e medir na base computacional. Mas isso, na prática, é bem diferente que aplicar duas portas de Hadamard em sequência, por causa dos erros inevitáveis associados. Para obrigar transpiler a excecutar as portas de Hadamard, usamos a barrier() entre essas portas, como mostrado no circuito abaixo."
   ]
  },
  {
   "cell_type": "code",
   "execution_count": 20,
   "id": "a1986750",
   "metadata": {},
   "outputs": [
    {
     "data": {
      "image/png": "[encoded data removed]",
      "text/plain": [
       "<Figure size 603.508x200.667 with 1 Axes>"
      ]
     },
     "execution_count": 20,
     "metadata": {},
     "output_type": "execute_result"
    }
   ],
   "source": [
    "qc = QuantumCircuit(1, 1)\n",
    "qc.barrier()\n",
    "qc.h([0])\n",
    "qc.barrier()\n",
    "qc.h([0])\n",
    "qc.barrier()\n",
    "qc.measure([0], [0])\n",
    "qc.draw(output = 'mpl')"
   ]
  },
  {
   "cell_type": "code",
   "execution_count": 23,
   "id": "b2abcbdb",
   "metadata": {},
   "outputs": [
    {
     "data": {
      "image/png": "[encoded data removed]",
      "text/plain": [
       "<Figure size 603.508x200.667 with 1 Axes>"
      ]
     },
     "execution_count": 23,
     "metadata": {},
     "output_type": "execute_result"
    }
   ],
   "source": [
    "qc.decompose().draw(output = 'mpl')"
   ]
  },
  {
   "cell_type": "markdown",
   "id": "db302ed1",
   "metadata": {},
   "source": [
    "# Reset\n",
    "A função reset (https://youtu.be/mFxtSlnZcM8) pode ser utilizada para colocar o estado de um qubit de volta no estado $|0\\rangle$, mesmo no meio da execução de um circuito. Como isso é feito em toda preparação do estado inicial dos qubits, se espera que essa seja um operação feita como pouco erro, relativo às outras operações.\n",
    "\n",
    "Para ver uma situação onde a função reset pode ser útil para diminuir o número de qubits necessários, considere o exemplo do circuit abaixo."
   ]
  },
  {
   "cell_type": "code",
   "execution_count": 24,
   "id": "ff80a345",
   "metadata": {},
   "outputs": [
    {
     "data": {
      "image/png": "[encoded data removed]",
      "text/plain": [
       "<Figure size 371.107x367.889 with 1 Axes>"
      ]
     },
     "execution_count": 24,
     "metadata": {},
     "output_type": "execute_result"
    }
   ],
   "source": [
    "qc = QuantumCircuit(4)\n",
    "qc.h([0])\n",
    "qc.cx([0], [2])\n",
    "qc.h([1])\n",
    "qc.cx([1], [3])\n",
    "qc.draw(output = 'mpl')"
   ]
  },
  {
   "cell_type": "markdown",
   "id": "75caac0a",
   "metadata": {},
   "source": [
    "Usando reset, podemos implementar essa mesmo operação nos qubits 2 e 3 mas usando um qubit auxiliar a menos, como exemplificado no circuit abaixo."
   ]
  },
  {
   "cell_type": "code",
   "execution_count": 25,
   "id": "56ccc438",
   "metadata": {},
   "outputs": [
    {
     "data": {
      "image/png": "[encoded data removed]",
      "text/plain": [
       "<Figure size 538.33x284.278 with 1 Axes>"
      ]
     },
     "execution_count": 25,
     "metadata": {},
     "output_type": "execute_result"
    }
   ],
   "source": [
    "qc = QuantumCircuit(3)\n",
    "qc.h([0])\n",
    "qc.cx([0], [1])\n",
    "qc.reset([0])\n",
    "qc.h([0])\n",
    "qc.cx([0], [2])\n",
    "qc.draw(output = 'mpl')"
   ]
  }
 ],
 "metadata": {
  "kernelspec": {
   "display_name": "Python 3 (ipykernel)",
   "language": "python",
   "name": "python3"
  },
  "language_info": {
   "codemirror_mode": {
    "name": "ipython",
    "version": 3
   },
   "file_extension": ".py",
   "mimetype": "text/x-python",
   "name": "python",
   "nbconvert_exporter": "python",
   "pygments_lexer": "ipython3",
   "version": "3.9.13"
  }
 },
 "nbformat": 4,
 "nbformat_minor": 5
}
