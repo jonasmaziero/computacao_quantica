{
 "cells": [
  {
   "cell_type": "markdown",
   "metadata": {},
   "source": [
    "### Computação Quântica com Qiskit <br> Autor: Jonas Maziero"
   ]
  },
  {
   "cell_type": "markdown",
   "metadata": {},
   "source": [
    "# Não localidade quântica\n",
    "\n",
    "## O paradoxo EPR\n",
    "Em 1935 Einstein, Podolski e Rosen propuseram um experimento de pensamento com o intuito de mostrar que a MQ não era uma teoria completa, que, pela definição deles, seria uma teoria com a qual podemos prever com certeza o resultado de experimentos antes de fazê-los e que, naturalmente, é local, conforme estabelecido pela teoria da relatividade. O argumento de EPR pode ser descrito como segue, na versão de David Bohm. Consideremos o seguinte estado de spin de dois quantons de spin 1/2:\n",
    "\\begin{equation}\n",
    "|\\Psi_{-}\\rangle_{AB} = \\frac{1}{\\sqrt{2}}\\left(|0\\rangle_{A}\\otimes|0\\rangle_{B} - |1\\rangle_{A}\\otimes|0\\rangle_{B}\\right).\n",
    "\\end{equation}\n",
    "Usando \n",
    "$$|\\pm\\rangle_{S}=(|0\\rangle_{S}\\pm|1\\rangle_{S})/\\sqrt{2},$$\n",
    "para $S=A,B$, pode-se verificar que:\n",
    "\\begin{equation}\n",
    "|\\Psi_{-}\\rangle_{AB} = \\frac{e^{i\\pi}}{\\sqrt{2}}\\left(|+\\rangle_{A}\\otimes|-\\rangle_{B} - |-\\rangle_{A}\\otimes|+\\rangle_{B}\\right).\n",
    "\\end{equation}\n",
    "\n",
    "Agora considere que medimos um dos observáveis $\\sigma_{z}^{A}$ ou $\\sigma_{x}^{A}$, do quanton da Alice. Se $|0\\rangle_A,|1\\rangle_A$ ou $|+\\rangle_A,|-\\rangle_A$ é obtido nessas medidas da Alice, pela correlação que há entre os spins, sabemos que o estado do quanton do Bob depois das medidas será $|1\\rangle_B,|0\\rangle_B$ ou $|-\\rangle_B,|+\\rangle_B$. Como exemplo, consideremos\n",
    "\\begin{align}\n",
    "|\\Psi_{-}\\rangle_{AB} \\xrightarrow[]{|0\\rangle_{A}} &\\propto \\Pi_{0}\\otimes\\mathbb{I}_{B}|\\Psi_{-}\\rangle_{AB} \\\\\n",
    "& = |0\\rangle_{A}\\langle 0|\\otimes\\mathbb{I}_{B}|\\Psi_{-}\\rangle_{AB} \\\\\n",
    "& = \\frac{1}{\\sqrt{2}}\\left(|0\\rangle_{A}\\langle 0||z_{+}\\rangle_{A}\\otimes\\mathbb{I}_{B}|1\\rangle_{B} - |0\\rangle_{A}\\langle 0||1\\rangle_{A}\\otimes\\mathbb{I}_{B}|0\\rangle_{B}\\right) \\\\\n",
    "& = \\frac{1}{\\sqrt{2}}|0\\rangle_{A}\\otimes|1\\rangle_{B}.\n",
    "\\end{align}"
   ]
  },
  {
   "cell_type": "markdown",
   "metadata": {},
   "source": [
    "e\n",
    "\\begin{align}\n",
    "|\\Psi_{-}\\rangle_{AB} \\xrightarrow[]{|+\\rangle^{A}} & \\propto \\Pi_{+}\\otimes\\mathbb{I}_{B}|\\Psi_{-}\\rangle_{AB} \\\\\n",
    "& = |+\\rangle_{A}\\langle +|\\otimes\\mathbb{I}_{B}|\\Psi_{-}\\rangle_{AB} \\\\\n",
    "& = \\frac{e^{i\\pi}}{\\sqrt{2}}\\left(|+\\rangle_{A}\\langle +||+\\rangle_{A}\\otimes\\mathbb{I}_{B}|-\\rangle_{B} - |+\\rangle_{A}\\langle +||-\\rangle_{A}\\otimes\\mathbb{I}_{B}|+\\rangle_{B}\\right) \\\\\n",
    "& = \\frac{e^{i\\pi}}{\\sqrt{2}}|+\\rangle_{A}\\otimes|-\\rangle_{B}.\n",
    "\\end{align}\n",
    "\n",
    "Agora, se impomos _localidade_, ou seja, que as medidas feitas por Alice não podem afetar o resultado das medidas que foram, que serão ou que estão sendo feitas por Bob (espacialmente distante), vemos que pelo uso do estado emaranhado acima podemos prever, com certeza e sem perturbar o sistema $B$, os resultados de medidas de dois _observáveis incompatíveis_ $\\sigma_{z}^{B}$ ou $\\sigma_{x}^{B}$ do quanton do Bob. Como isso é claramente impossível segundo as regras da MQ, EPR disseram que embora a MQ estivesse correta, eles acreditavam na existência de uma teoria completa que a substituiria."
   ]
  },
  {
   "cell_type": "markdown",
   "metadata": {},
   "source": [
    "## O teorema de Bell\n",
    "Em 1964 John Bell tentou mostrar que EPR estavam certos, mas com uma abordagem que possibilitaría fazer testes experimentais. Bell supôs que existiriam variáveis ocultas, tais que se conhecêssemos seus valores, ou a distribuição de probabilidades desses valores, poderíamos prever com certeza os resultados de qualquer medida em MQ. Essa suposição pode ser chamada de __determinismo__. Bell também assumiu __localidade__, ou seja, que o resultado da medida em um sistema não pode influenciar os resultados de medidas no outro sistema. Agora, consideramos o seguinte observável\n",
    "\\begin{align}\n",
    "O & = A_{1}B_{1} + A_{1}B_{2} + A_{2}B_{1} - A_{2}B_{2} \\\\\n",
    "  & = A_{1}(B_{1} + B_{2}) + A_{2}(B_{1} - B_{2}),\n",
    "\\end{align}\n",
    "com $A_{j}$ e $B_{k}$ sendo observáveis dicotômicos, todos tendo espectro $\\pm 1$, dos subsistemas $A$ e $B$, respectivamente. Segundo as suposições acima, o valor médio de $O$ ficaria\n",
    "\\begin{equation}\n",
    "\\langle O\\rangle_{dl} = \\int d\\lambda\\rho(\\lambda) \\left\\{a_{1}(\\lambda)[b_{1}(\\lambda) + b_{2}(\\lambda)] + a_{2}(\\lambda)[b_{1}(\\lambda) - b_{2}(\\lambda)]\\right\\},\n",
    "\\end{equation}\n",
    "em que denotamos por $a_{j},b_{k}$ os possíveis valores de $A_{j},B_{k}$ e $\\rho(\\lambda)$ é a distribuição de probabilidades para as variáveis ocultas. Note que a suposição de determinismo entra na dependência dos valores dos observáveis com $\\lambda$ e a localidade entra na não dependência desses valores com aqueles do outro sistema. O contrário, a dependência não local seria e.g. \n",
    "$$a_{j}=a_{j}(\\lambda,b_{k}).$$\n",
    "Considerando todas as combinacões possíveis de valores de $A_{j}$ e $B_{k}$ vemos que o espectro de $O$ é $\\pm2$. Disso segue que o valor médio desse observável deve estar limitado por\n",
    "\\begin{equation}\n",
    "-2 \\le \\langle O\\rangle_{dl} \\le 2,\n",
    "\\end{equation}\n",
    "que é a chamada __desigualdade CHSH__ (de Clauder, Horne, Shimoni e Holt)."
   ]
  },
  {
   "cell_type": "markdown",
   "metadata": {},
   "source": [
    "Agora consideremos um situação idêntica mas descrita pelas regras da MQ. Usaremos como estado preparado $|\\Psi_{-}\\rangle_{AB}$. Quanto aos observáveis, uma escolha apropriada é\n",
    "\\begin{align}\n",
    "& A_{1}=\\sigma_{z}^{A}\\text{, } A_{2}=\\sigma_{x}^{A}, \\\\\n",
    "& B_{1}=(\\sigma_{z}^{B}+\\sigma_{x}^{B})/\\sqrt{2} \\text{, } B_{2}=(\\sigma_{z}^{B}-\\sigma_{x}^{B})/\\sqrt{2}.\n",
    "\\end{align}\n",
    "Pode-se verificar que nesse caso\n",
    "\\begin{equation}\n",
    "O=\\sqrt{2}(\\sigma_{z}\\otimes\\sigma_{z}+\\sigma_{x}\\otimes\\sigma_{x}).\n",
    "\\end{equation}\n",
    "Ademais, usando \n",
    "$$\\sigma_{z}^{S}|0^{S}\\rangle=|0^{S}\\rangle \\text{ e } \\sigma_{z}^{S}|1^{S}\\rangle=-|1^{S}\\rangle,$$\n",
    "teremos que \n",
    "\\begin{align}\n",
    "\\sigma_{z}^{A}\\otimes\\sigma_{z}^{B}|\\Psi_{-}\\rangle_{AB} &= \\frac{1}{\\sqrt{2}}\\left(\\sigma_{z}^{A}|0\\rangle_{A}\\otimes\\sigma_{z}^{B}|1\\rangle_{B} - \\sigma_{z}^{A}|1\\rangle_{A}\\otimes\\sigma_{z}^{B}|0\\rangle_{B}\\right) \\\\  \n",
    "& = \\frac{1}{\\sqrt{2}}\\left(|0\\rangle_{A}\\otimes(-|1\\rangle_{B}) - (-|1\\rangle_{A})\\otimes|0\\rangle_{B}\\right) \\\\\n",
    "& =-|\\Psi_{-}\\rangle_{AB}.\n",
    "\\end{align}\n",
    "Usando\n",
    "$$\\sigma_{x}^{S}|0^{S}\\rangle=|1^{S}\\rangle \\text{ e } \\sigma_{x}^{S}|1^{S}\\rangle=|0^{S}\\rangle,$$\n",
    "pode-se verificar também que \n",
    "$$\\sigma_{x}\\otimes\\sigma_{x}|\\Psi_{-}\\rangle_{AB} =-|\\Psi_{-}\\rangle_{AB}.$$\n",
    "Assim, vem que\n",
    "\\begin{align}\n",
    "\\langle O\\rangle_{mq} & = _{AB}\\langle\\Psi_{-}|O|\\Psi_{-}\\rangle_{AB} \\\\\n",
    "& = _{AB}\\langle\\Psi_{-}|\\sqrt{2}(-2|\\Psi_{-}\\rangle_{AB}) \\\\\n",
    "                      & = -2\\sqrt{2} \\\\\n",
    "                      & < -2.\n",
    "\\end{align}\n",
    "Ou seja, o resultado da MQ está fora do limite imposto pela teoria de variáveis ocultas locais. Desde 1982, vários experimentos foram feitos fornecendo resultados compatíveis com a MQ. Isso nos mostra que uma ou as duas suposições estão erradas, i.e., a Natureza é não determinística e/ou não local. Bell preferia esta última opção, pois existe uma versão conhecida da MQ, a de de Broglie-Bohm, que é determinística e não local. "
   ]
  },
  {
   "cell_type": "markdown",
   "metadata": {},
   "source": [
    "## Demonstração de violação da desigualdade CHSH com o IBMQ\n",
    "\n",
    "Primeiramente temos que preparar o estado emaranhado singleto\n",
    "$$|\\Psi_-\\rangle = \\frac{1}{\\sqrt{2}}\\big(|01\\rangle-|10\\rangle\\big).$$\n",
    "o que é feito da seguinte forma. Acima $|\\pm\\rangle$ são os autovetores de $X$."
   ]
  },
  {
   "cell_type": "code",
   "execution_count": 1,
   "metadata": {},
   "outputs": [],
   "source": [
    "from qiskit import *"
   ]
  },
  {
   "cell_type": "markdown",
   "metadata": {},
   "source": [
    "Prepara o estado $|\\Psi_-\\rangle$"
   ]
  },
  {
   "cell_type": "code",
   "execution_count": 7,
   "metadata": {},
   "outputs": [
    {
     "data": {
      "image/png": "[encoded data removed]",
      "text/plain": [
       "<Figure size 472.747x200.667 with 1 Axes>"
      ]
     },
     "execution_count": 7,
     "metadata": {},
     "output_type": "execute_result"
    }
   ],
   "source": [
    "def qc_psim():\n",
    "    qr = QuantumRegister(2)\n",
    "    qc = QuantumCircuit(qr, name=r'$\\Psi_-$')\n",
    "    qc.h(0)\n",
    "    qc.cx(0,1)\n",
    "    qc.z(1)\n",
    "    qc.x(1)\n",
    "    return qc\n",
    "qc_psim_ = qc_psim()\n",
    "qc_psim_.draw('mpl')"
   ]
  },
  {
   "cell_type": "markdown",
   "metadata": {},
   "source": [
    "### Mede o observável $Z\\otimes Z$_\n",
    "\n",
    "Notemos que\n",
    "$$\\langle Z\\otimes Z\\rangle = Pr(0,0) + Pr(1,1) - Pr(0,1) - Pr(1,0).$$"
   ]
  },
  {
   "cell_type": "code",
   "execution_count": 8,
   "metadata": {},
   "outputs": [
    {
     "data": {
      "image/png": "[encoded data removed]",
      "text/plain": [
       "<Figure size 389.338x284.278 with 1 Axes>"
      ]
     },
     "execution_count": 8,
     "metadata": {},
     "output_type": "execute_result"
    }
   ],
   "source": [
    "qr = QuantumRegister(2)\n",
    "cr = ClassicalRegister(2)\n",
    "qc = QuantumCircuit(qr,cr)\n",
    "qc_psim_ = qc_psim()\n",
    "psim = qc_psim_.to_gate()\n",
    "qc.append(psim, [0,1])\n",
    "qc.measure([qr[0],qr[1]],[cr[0],cr[1]])\n",
    "qc.draw('mpl')"
   ]
  },
  {
   "cell_type": "markdown",
   "metadata": {},
   "source": [
    "#### Simulação"
   ]
  },
  {
   "cell_type": "code",
   "execution_count": 4,
   "metadata": {},
   "outputs": [],
   "source": [
    "simulator = Aer.get_backend('qasm_simulator')\n",
    "nshots = 8192 # número de medidas para estimar as probabilidades (valores médios)"
   ]
  },
  {
   "cell_type": "code",
   "execution_count": 5,
   "metadata": {},
   "outputs": [],
   "source": [
    "job = execute(qc, backend = simulator, shots = nshots)"
   ]
  },
  {
   "cell_type": "code",
   "execution_count": 6,
   "metadata": {},
   "outputs": [
    {
     "data": {
      "text/plain": [
       "{'10': 4032, '01': 4160}"
      ]
     },
     "execution_count": 6,
     "metadata": {},
     "output_type": "execute_result"
    }
   ],
   "source": [
    "counts = job.result().get_counts(qc)\n",
    "counts"
   ]
  },
  {
   "cell_type": "code",
   "execution_count": 7,
   "metadata": {},
   "outputs": [],
   "source": [
    "def f_counts(counts,nshots):\n",
    "    p00 = 0; p01 = 0; p10 = 0; p11 = 0\n",
    "    if '00' in counts:\n",
    "        p00 = counts['00']/nshots\n",
    "    if '01' in counts:\n",
    "        p01 = counts['01']/nshots\n",
    "    if '10' in counts:\n",
    "        p10 = counts['10']/nshots\n",
    "    if '11' in counts:\n",
    "        p11 = counts['11']/nshots\n",
    "    return p00,p01,p10,p11"
   ]
  },
  {
   "cell_type": "code",
   "execution_count": 8,
   "metadata": {},
   "outputs": [
    {
     "name": "stdout",
     "output_type": "stream",
     "text": [
      "0 0.5078125 0.4921875 0\n"
     ]
    }
   ],
   "source": [
    "p00,p01,p10,p11 = f_counts(counts,nshots)\n",
    "print(p00,p01,p10,p11)"
   ]
  },
  {
   "cell_type": "code",
   "execution_count": 9,
   "metadata": {},
   "outputs": [
    {
     "data": {
      "text/plain": [
       "-1.0"
      ]
     },
     "execution_count": 9,
     "metadata": {},
     "output_type": "execute_result"
    }
   ],
   "source": [
    "ZZ_sim = p00 + p11 - p01 - p10\n",
    "ZZ_sim"
   ]
  },
  {
   "cell_type": "markdown",
   "metadata": {},
   "source": [
    "#### Experiment"
   ]
  },
  {
   "cell_type": "code",
   "execution_count": 11,
   "metadata": {},
   "outputs": [
    {
     "name": "stderr",
     "output_type": "stream",
     "text": [
      "ibmqfactory.load_account:WARNING:2023-01-28 12:59:08,536: Credentials are already in use. The existing account in the session will be replaced.\n"
     ]
    },
    {
     "data": {
      "text/plain": [
       "<AccountProvider for IBMQ(hub='ibm-q', group='open', project='main')>"
      ]
     },
     "execution_count": 11,
     "metadata": {},
     "output_type": "execute_result"
    }
   ],
   "source": [
    "import qiskit\n",
    "qiskit.IBMQ.load_account()"
   ]
  },
  {
   "cell_type": "code",
   "execution_count": 12,
   "metadata": {},
   "outputs": [],
   "source": [
    "provider = IBMQ.get_provider(hub = 'ibm-q', group = 'open', project = 'main')"
   ]
  },
  {
   "cell_type": "code",
   "execution_count": 18,
   "metadata": {},
   "outputs": [],
   "source": [
    "device = provider.get_backend('ibmq_belem')"
   ]
  },
  {
   "cell_type": "code",
   "execution_count": 19,
   "metadata": {},
   "outputs": [],
   "source": [
    "from qiskit.tools.monitor import job_monitor"
   ]
  },
  {
   "cell_type": "code",
   "execution_count": null,
   "metadata": {},
   "outputs": [
    {
     "name": "stdout",
     "output_type": "stream",
     "text": [
      "63d55510615264358ed29327\n",
      "Job Status: job is queued (1)     "
     ]
    }
   ],
   "source": [
    "job = execute(qc, backend = device, shots = nshots)\n",
    "print(job.job_id())\n",
    "job_monitor(job)"
   ]
  },
  {
   "cell_type": "code",
   "execution_count": 21,
   "metadata": {},
   "outputs": [
    {
     "data": {
      "text/plain": [
       "{'00': 451, '01': 3567, '10': 4002, '11': 172}"
      ]
     },
     "execution_count": 21,
     "metadata": {},
     "output_type": "execute_result"
    }
   ],
   "source": [
    "counts = job.result().get_counts(qc)\n",
    "counts"
   ]
  },
  {
   "cell_type": "code",
   "execution_count": 22,
   "metadata": {},
   "outputs": [
    {
     "name": "stdout",
     "output_type": "stream",
     "text": [
      "0.0550537109375 0.4354248046875 0.488525390625 0.02099609375\n"
     ]
    }
   ],
   "source": [
    "p00,p01,p10,p11 = f_counts(counts,nshots)\n",
    "print(p00,p01,p10,p11)"
   ]
  },
  {
   "cell_type": "code",
   "execution_count": 23,
   "metadata": {},
   "outputs": [
    {
     "data": {
      "text/plain": [
       "-0.847900390625"
      ]
     },
     "execution_count": 23,
     "metadata": {},
     "output_type": "execute_result"
    }
   ],
   "source": [
    "ZZ_exp = p00 + p11 - p01 - p10\n",
    "ZZ_exp"
   ]
  },
  {
   "cell_type": "markdown",
   "metadata": {},
   "source": [
    "__Mede o observável $X\\otimes X$__\n",
    "\n",
    "Notemos que\n",
    "$$\\langle X\\otimes X\\rangle = Pr(+,+) + Pr(-,-) - Pr(+,-) - Pr(-,+).$$"
   ]
  },
  {
   "cell_type": "code",
   "execution_count": 9,
   "metadata": {},
   "outputs": [
    {
     "data": {
      "image/png": "[encoded data removed]",
      "text/plain": [
       "<Figure size 490.978x284.278 with 1 Axes>"
      ]
     },
     "execution_count": 9,
     "metadata": {},
     "output_type": "execute_result"
    }
   ],
   "source": [
    "qr = QuantumRegister(2)\n",
    "cr = ClassicalRegister(2)\n",
    "qc = QuantumCircuit(qr,cr)\n",
    "qc_psim_ = qc_psim()\n",
    "psim = qc_psim_.to_gate()\n",
    "qc.append(psim, [0,1])\n",
    "qc.h([0,1])\n",
    "qc.measure([qr[0],qr[1]],[cr[0],cr[1]])\n",
    "qc.draw('mpl')"
   ]
  },
  {
   "cell_type": "code",
   "execution_count": 25,
   "metadata": {},
   "outputs": [],
   "source": [
    "job = execute(qc, backend = simulator, shots = nshots)"
   ]
  },
  {
   "cell_type": "code",
   "execution_count": 26,
   "metadata": {},
   "outputs": [
    {
     "data": {
      "text/plain": [
       "{'10': 4037, '01': 4155}"
      ]
     },
     "execution_count": 26,
     "metadata": {},
     "output_type": "execute_result"
    }
   ],
   "source": [
    "counts = job.result().get_counts(qc)\n",
    "counts"
   ]
  },
  {
   "cell_type": "code",
   "execution_count": 27,
   "metadata": {},
   "outputs": [
    {
     "name": "stdout",
     "output_type": "stream",
     "text": [
      "0 0.5072021484375 0.4927978515625 0\n"
     ]
    }
   ],
   "source": [
    "p00,p01,p10,p11 = f_counts(counts)\n",
    "print(p00,p01,p10,p11)"
   ]
  },
  {
   "cell_type": "code",
   "execution_count": 28,
   "metadata": {},
   "outputs": [
    {
     "data": {
      "text/plain": [
       "-1.0"
      ]
     },
     "execution_count": 28,
     "metadata": {},
     "output_type": "execute_result"
    }
   ],
   "source": [
    "XX_sim = p00 + p11 - p01 - p10\n",
    "XX_sim"
   ]
  },
  {
   "cell_type": "code",
   "execution_count": 29,
   "metadata": {},
   "outputs": [
    {
     "name": "stdout",
     "output_type": "stream",
     "text": [
      "63d55997ed7bc60283896baa\n",
      "Job Status: job has successfully run\n"
     ]
    }
   ],
   "source": [
    "job = execute(qc, backend = device, shots = nshots)\n",
    "print(job.job_id())\n",
    "job_monitor(job)"
   ]
  },
  {
   "cell_type": "code",
   "execution_count": 30,
   "metadata": {},
   "outputs": [
    {
     "data": {
      "text/plain": [
       "{'00': 593, '01': 3549, '10': 3731, '11': 319}"
      ]
     },
     "execution_count": 30,
     "metadata": {},
     "output_type": "execute_result"
    }
   ],
   "source": [
    "counts = job.result().get_counts(qc)\n",
    "counts"
   ]
  },
  {
   "cell_type": "code",
   "execution_count": 31,
   "metadata": {},
   "outputs": [
    {
     "name": "stdout",
     "output_type": "stream",
     "text": [
      "0.0723876953125 0.4332275390625 0.4554443359375 0.0389404296875\n"
     ]
    }
   ],
   "source": [
    "p00,p01,p10,p11 = f_counts(counts)\n",
    "print(p00,p01,p10,p11)"
   ]
  },
  {
   "cell_type": "code",
   "execution_count": 42,
   "metadata": {},
   "outputs": [
    {
     "data": {
      "text/plain": [
       "-0.77734375"
      ]
     },
     "execution_count": 42,
     "metadata": {},
     "output_type": "execute_result"
    }
   ],
   "source": [
    "XX_exp = p00 + p11 - p01 - p10\n",
    "XX_exp"
   ]
  },
  {
   "cell_type": "markdown",
   "metadata": {},
   "source": [
    "### Resultado final"
   ]
  },
  {
   "cell_type": "code",
   "execution_count": 43,
   "metadata": {},
   "outputs": [
    {
     "name": "stdout",
     "output_type": "stream",
     "text": [
      "O_teo= -2.8284271247461903 , O_sim= -2.8284271247461903 , O_exp= -2.2984423058392807\n"
     ]
    }
   ],
   "source": [
    "import math\n",
    "O_sim = math.sqrt(2)*(ZZ_sim + XX_sim)\n",
    "O_exp = math.sqrt(2)*(ZZ_exp + XX_exp)\n",
    "print('O_teo=', -2*math.sqrt(2), ', O_sim=',O_sim,', O_exp=', O_exp)"
   ]
  },
  {
   "cell_type": "markdown",
   "metadata": {},
   "source": [
    "Claro, podemos organizar melhor esses códigos e fazer o experimento algumas vezes para estimar um __valor médio e desvio padrão__ desse valor médio."
   ]
  },
  {
   "cell_type": "code",
   "execution_count": null,
   "metadata": {},
   "outputs": [],
   "source": []
  }
 ],
 "metadata": {
  "colab": {
   "authorship_tag": "ABX9TyO7oslXx8PNoo8tHC10REMN",
   "collapsed_sections": [],
   "provenance": []
  },
  "kernelspec": {
   "display_name": "Python 3 (ipykernel)",
   "language": "python",
   "name": "python3"
  },
  "language_info": {
   "codemirror_mode": {
    "name": "ipython",
    "version": 3
   },
   "file_extension": ".py",
   "mimetype": "text/x-python",
   "name": "python",
   "nbconvert_exporter": "python",
   "pygments_lexer": "ipython3",
   "version": "3.9.13"
  }
 },
 "nbformat": 4,
 "nbformat_minor": 4
}
