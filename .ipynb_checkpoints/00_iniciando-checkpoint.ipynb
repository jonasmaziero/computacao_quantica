{
 "cells": [
  {
   "cell_type": "markdown",
   "id": "33506a72-df5f-4502-8383-9e1e0def3ee3",
   "metadata": {},
   "source": [
    "### Computação Quântica com Qiskit <br> Autor: Jonas Maziero\n",
    "\n",
    "## Comentários preliminares\n",
    "\n",
    "Para começar, você precisará fazer uma conta em https://quantum-computing.ibm.com/, ou você simplemente pode fazer login com seu email nesta página. \n",
    "\n",
    "Feito o login, você terá acesso a uma tela tal como na figura abaixo. \n",
    "\n",
    "<img src='fig_ibmq.png' width='700'>"
   ]
  },
  {
   "cell_type": "markdown",
   "id": "676e1bb8-edd0-4c7d-9f46-eb6e4b6a88a1",
   "metadata": {},
   "source": [
    "Feito isso, você pode acessar o __Composer__, como o qual você poderá criar circuitos quânticos simplesmente arrastando as portas lógicas disponíveis. Veja a figura a seguir.\n",
    "\n",
    "<img src='fig_composer.png' width='900'>"
   ]
  },
  {
   "cell_type": "markdown",
   "id": "0e638822-10cb-4447-8989-43c10adbda5b",
   "metadata": {},
   "source": [
    "Aproveito esta figura para comentar que todos os estados são inicializados em\n",
    "$$|0\\rangle\\otimes|0\\rangle\\otimes\\cdots\\otimes|0\\rangle.$$\n",
    "Além disso, temos acesso direto somente a __medidas__ do observável local\n",
    "$$Z= |0\\rangle\\langle0| -|1\\rangle\\langle 1|$$\n",
    "de cada qubit."
   ]
  },
  {
   "cell_type": "markdown",
   "id": "7aa51847-769a-4b21-9b7b-d2c67755e4fa",
   "metadata": {},
   "source": [
    "Note também no lado direito da figura o código __Qiskit__ correspondendo ao circuito construído com o Composer. Para quem estiver iniciando, ou esquece como se escreve uma certa porta lógica, é útil usar o Composer para ajudar na programação.\n",
    "\n",
    "Para começar a programar com o Qiskit (https://qiskit.org/), você pode acessar o Lab, clicando em Launch Lab. Outra forma de começar a programar com o Qiskit sem precisar instalá-lo em seu computador é usando o Google Colab (https://colab.research.google.com/).\n",
    "\n",
    "Se você for programar com Qiskit em seu computador, sugiro instalar o Anaconda (https://www.anaconda.com/). A partir dele você pode instalar o Qiskit usando:\n",
    "- pip install qiskit\n",
    "\n",
    "O qiskit teve uma grande modificação recentemente. Para usar a versão antiga que tem os recursos de tomografia de estados e mitigação de erros use o seguinte comando:\n",
    "\n",
    "- pip install -U qiskit==0.36.2\n",
    "\n",
    "Também sugiro usar o Jupyter Notebooks (https://jupyter.org/). Mas o Visual Studio Code também é útil e fácil de usar.\n",
    "\n",
    "Assumindo que você está com o Qiskit instalado, você terá que __identificar para a IBM quem é você__. Para isso vá na página inicial, a 1ª figura, copie seu __API token__ e use os seguintes comando para se conectar com o servidor da IBMQ."
   ]
  },
  {
   "cell_type": "code",
   "execution_count": 1,
   "id": "00f2042b-d363-4596-b211-34095f9232a7",
   "metadata": {},
   "outputs": [],
   "source": [
    "import qiskit"
   ]
  },
  {
   "cell_type": "code",
   "execution_count": 2,
   "id": "e9ab65dd-d038-4be1-a04e-d9fbf87ff43b",
   "metadata": {},
   "outputs": [
    {
     "data": {
      "text/plain": [
       "{'qiskit-terra': '0.20.2', 'qiskit-aer': '0.10.4', 'qiskit-ignis': '0.7.1', 'qiskit-ibmq-provider': '0.19.1', 'qiskit-aqua': None, 'qiskit': '0.36.2', 'qiskit-nature': None, 'qiskit-finance': None, 'qiskit-optimization': None, 'qiskit-machine-learning': None}"
      ]
     },
     "execution_count": 2,
     "metadata": {},
     "output_type": "execute_result"
    }
   ],
   "source": [
    "# para ver as versões dos pacotes do qiskit que você tem instaladas, use:\n",
    "qiskit.__qiskit_version__"
   ]
  },
  {
   "cell_type": "code",
   "execution_count": 3,
   "id": "c17eb70e-6d4d-4304-9e7b-008c15757dec",
   "metadata": {},
   "outputs": [],
   "source": [
    "# determina o API token a ser usado\n",
    "qiskit.IBMQ.save_account('113e3bb0d5aca34f221ba9235c098587b9c31896b890fae25b58513c0179aa14ef2620032a3cbf9c1cec6deb150e1a33d63d1918aa0e3e864935a661ba145432', \n",
    "                  overwrite = True)"
   ]
  },
  {
   "cell_type": "code",
   "execution_count": 4,
   "id": "21d7b097-9c1a-4d0d-92f5-f66fbbb15bd7",
   "metadata": {},
   "outputs": [
    {
     "data": {
      "text/plain": [
       "<AccountProvider for IBMQ(hub='ibm-q', group='open', project='main')>"
      ]
     },
     "execution_count": 4,
     "metadata": {},
     "output_type": "execute_result"
    }
   ],
   "source": [
    "# conecta meu computador com minha conta IBMQ na nuvem\n",
    "qiskit.IBMQ.load_account()"
   ]
  },
  {
   "cell_type": "code",
   "execution_count": 5,
   "id": "dee08885-c942-44be-b8db-7db1e78c7765",
   "metadata": {},
   "outputs": [],
   "source": [
    "# determina qual das minhas \"contas\" vou usar. \n",
    "provider = qiskit.IBMQ.get_provider(hub='ibm-q', group='open', project='main')\n",
    "#provider = qiskit.IBMQ.get_provider(hub = 'ibm-q-research-2', group = 'federal-uni-sant-1', project = 'main')"
   ]
  },
  {
   "cell_type": "code",
   "execution_count": 6,
   "id": "770227b2-ecfc-4d58-981c-ea80776feb41",
   "metadata": {},
   "outputs": [
    {
     "data": {
      "text/plain": [
       "[<IBMQSimulator('ibmq_qasm_simulator') from IBMQ(hub='ibm-q', group='open', project='main')>,\n",
       " <IBMQBackend('ibmq_lima') from IBMQ(hub='ibm-q', group='open', project='main')>,\n",
       " <IBMQBackend('ibmq_belem') from IBMQ(hub='ibm-q', group='open', project='main')>,\n",
       " <IBMQBackend('ibmq_quito') from IBMQ(hub='ibm-q', group='open', project='main')>,\n",
       " <IBMQSimulator('simulator_statevector') from IBMQ(hub='ibm-q', group='open', project='main')>,\n",
       " <IBMQSimulator('simulator_mps') from IBMQ(hub='ibm-q', group='open', project='main')>,\n",
       " <IBMQSimulator('simulator_extended_stabilizer') from IBMQ(hub='ibm-q', group='open', project='main')>,\n",
       " <IBMQSimulator('simulator_stabilizer') from IBMQ(hub='ibm-q', group='open', project='main')>,\n",
       " <IBMQBackend('ibmq_manila') from IBMQ(hub='ibm-q', group='open', project='main')>,\n",
       " <IBMQBackend('ibm_nairobi') from IBMQ(hub='ibm-q', group='open', project='main')>,\n",
       " <IBMQBackend('ibm_oslo') from IBMQ(hub='ibm-q', group='open', project='main')>]"
      ]
     },
     "execution_count": 6,
     "metadata": {},
     "output_type": "execute_result"
    }
   ],
   "source": [
    "# mostra quais beckends posso utilizar\n",
    "provider.backends()"
   ]
  },
  {
   "cell_type": "markdown",
   "id": "aa6fb1ae-4868-432e-80c7-6f29b4814e7c",
   "metadata": {},
   "source": [
    "Você também pode ver __quais chips estão disponíveis__ para você na página https://quantum-computing.ibm.com/services/resources.\n",
    "Veja a figura abaixo. Na 1ª figura, é só clicar nos pontinhos no canto superior esquerdo, e assim visualizar um link a partir do qual você terá acesso à página dos chip e simuladores disponíveis. \n",
    "\n",
    "Como os computadores atuais são ruidosos, é importante olhar para essas informações antes de escolher qual chip e quais qubits você irá usar. Além disso, como a concorrência para usar os chips gratuitos é grande, é importante verificar quantos jobs estão na fila para um determinado chip.\n",
    "\n",
    "<img src='fig_chip_info.png' width='900'>"
   ]
  },
  {
   "cell_type": "code",
   "execution_count": null,
   "id": "c6e38533-79ec-47a8-9166-984247d7273e",
   "metadata": {},
   "outputs": [],
   "source": []
  }
 ],
 "metadata": {
  "kernelspec": {
   "display_name": "Python 3 (ipykernel)",
   "language": "python",
   "name": "python3"
  },
  "language_info": {
   "codemirror_mode": {
    "name": "ipython",
    "version": 3
   },
   "file_extension": ".py",
   "mimetype": "text/x-python",
   "name": "python",
   "nbconvert_exporter": "python",
   "pygments_lexer": "ipython3",
   "version": "3.9.13"
  }
 },
 "nbformat": 4,
 "nbformat_minor": 5
}
