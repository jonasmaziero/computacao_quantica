{
 "cells": [
  {
   "cell_type": "markdown",
   "id": "55542bb0",
   "metadata": {},
   "source": [
    "### Computação Quântica com Qiskit <br> Autor: Jonas Maziero"
   ]
  },
  {
   "cell_type": "markdown",
   "id": "995fc27e",
   "metadata": {},
   "source": [
    "# Controle quântico\n",
    "\n",
    "## Exemplo para um qubit\n",
    "Chamamos de __controle__ as operações que podemos implementar em um determinado experimento. __Controle quântico__ é o controle que pode ser implementado de forma quântica, ou seja, na forma coerente onde existe uma __suporposição__ de uma operação ser e de não ser aplicada. Também podemos pensar em controles quânticos envolvendo aplicações coerentes mas emaranhadas de certas operações quânticas.\n",
    "\n",
    "Um exemplo simples, já visto, é a CNOT. A porta NOT, $X$, é uma operação quântica no espaço de um qubit. Se usamos um qubit auxiliar em um estado de superposição,\n",
    "$$c_{0}|0\\rangle+c_{1}|1\\rangle,$$\n",
    "como o qubit de controle para uma CNOT, teremos implementado uma superposição de aplicar ou não a porta $X$ no qubit alvo. Veja o circuito abaixo. O qubit de controle inicia em um certo estado \n",
    "$$|\\phi\\rangle = c_{0}|0\\rangle + c_{1}|1\\rangle.$$"
   ]
  },
  {
   "cell_type": "markdown",
   "id": "73013c37",
   "metadata": {},
   "source": [
    "O qubit alvo está em um estado qualquer $|\\psi\\rangle.$ Aplicando a CNOT teremos\n",
    "\\begin{align}\n",
    "|\\Psi\\rangle & =  C_{x}^{01}(|\\phi\\rangle\\otimes|\\psi\\rangle) \\\\\n",
    "& = c_{0}C_{x}^{01}|0\\rangle_{c}|\\psi\\rangle_{a} + c_{1}C_{x}^{01}|1\\rangle_{c}|\\psi\\rangle_{a} \\\\\n",
    "& = c_{0}|0\\rangle_{c}\\otimes|\\psi\\rangle_{a} + c_{1}|1\\rangle_{c}\\otimes X|\\psi\\rangle_{a}.\n",
    "\\end{align}\n",
    "Antes de medirmos $a$, a operação $X$ está em uma superposição de ser e não ser aplicada. Se medimos $c$, a operação $X$ não será aplicada em $a$ como probabilidade $|c_{0}|^{2}$ ou será aplicada com probabilidade $|c_{1}|^{2}$.\n",
    "\n",
    "OBS. O mesmo tipo de análise se aplica a qualquer operação $U$ controlada, seja para um ou para mais qubits."
   ]
  },
  {
   "cell_type": "code",
   "execution_count": 1,
   "id": "a73003a1",
   "metadata": {},
   "outputs": [
    {
     "data": {
      "image/png": "[encoded data removed]",
      "text/plain": [
       "<Figure size 454.517x284.278 with 1 Axes>"
      ]
     },
     "execution_count": 1,
     "metadata": {},
     "output_type": "execute_result"
    }
   ],
   "source": [
    "from qiskit import *\n",
    "import math\n",
    "qc = QuantumCircuit(2, 1)\n",
    "thc, phc, lbc = math.pi/2, 0, 0\n",
    "qc.u(thc, phc, lbc, 0)\n",
    "tha, pha, lba = math.pi/2, math.pi/4, math.pi/8\n",
    "qc.u(tha, pha, lba, 1)\n",
    "qc.cx(0, 1)\n",
    "qc.measure(0, 0)\n",
    "qc.draw('mpl')"
   ]
  },
  {
   "cell_type": "markdown",
   "id": "357f1ee1",
   "metadata": {},
   "source": [
    "## Controles emaranhados\n",
    "Vamos ver uma situação interessante. Começamos considerando dois qubits auxiliares emaranhados\n",
    "$$c_{00}|00\\rangle+c_{11}|11\\rangle.$$\n",
    "Apliquemos porta CNOT e CZ controladas como segue\n",
    "\\begin{align}\n",
    "& C_{x}^{02}C_{z}^{13}(c_{00}|00\\rangle_{01}+c_{11}|11\\rangle_{01})|\\Psi\\rangle_{23} \\\\\n",
    "& = c_{00}C_{x}^{02}C_{z}^{13}|00\\rangle_{01}|\\Psi\\rangle_{23} + c_{11}C_{x}^{02}C_{z}^{13}|11\\rangle_{01}|\\Psi\\rangle_{23} \\\\\n",
    "& = c_{00}|00\\rangle_{01}|\\Psi\\rangle_{23} + c_{11}|11\\rangle_{01}X_{2}Z_{3}|\\Psi\\rangle_{23}.\n",
    "\\end{align}\n",
    "Ou seja, as portas $X$ e $Z$ estão em uma superposição coerente de serem ou não aplicadas. Mas essa suporposição é emaranhada, correlacionada, uma vez que se uma operação é aplicada a outra também é.\n",
    "\n",
    "Vemos assim que, de forma geral, superposição mais operações controladas nos possibilitam a implementação de superposições de operações quânticas, o chamado controle quântico."
   ]
  },
  {
   "cell_type": "code",
   "execution_count": null,
   "id": "737a0ddf",
   "metadata": {},
   "outputs": [],
   "source": []
  }
 ],
 "metadata": {
  "kernelspec": {
   "display_name": "Python 3 (ipykernel)",
   "language": "python",
   "name": "python3"
  },
  "language_info": {
   "codemirror_mode": {
    "name": "ipython",
    "version": 3
   },
   "file_extension": ".py",
   "mimetype": "text/x-python",
   "name": "python",
   "nbconvert_exporter": "python",
   "pygments_lexer": "ipython3",
   "version": "3.9.13"
  }
 },
 "nbformat": 4,
 "nbformat_minor": 5
}
