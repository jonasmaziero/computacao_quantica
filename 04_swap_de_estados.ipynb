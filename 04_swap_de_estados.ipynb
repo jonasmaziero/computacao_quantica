{
 "cells": [
  {
   "cell_type": "markdown",
   "id": "136e8983",
   "metadata": {},
   "source": [
    "### Computação Quântica com Qiskit <br> Autor: Jonas Maziero\n",
    "\n",
    "# Troca de estados quânticos\n",
    "\n",
    "## Matriz densidade geral de 2 qubits"
   ]
  },
  {
   "cell_type": "code",
   "execution_count": 1,
   "id": "db65c999-59e9-48d4-8ef5-8c121fbad6d7",
   "metadata": {},
   "outputs": [],
   "source": [
    "from sympy import *"
   ]
  },
  {
   "cell_type": "code",
   "execution_count": 5,
   "id": "05fcc2fb-3a19-4ddf-842e-8e42e4161fd9",
   "metadata": {},
   "outputs": [],
   "source": [
    "from sympy.physics.quantum import TensorProduct\n",
    "def tp(x,y):\n",
    "    return TensorProduct(x,y)"
   ]
  },
  {
   "cell_type": "code",
   "execution_count": 6,
   "id": "d1cf76b8",
   "metadata": {},
   "outputs": [
    {
     "data": {
      "text/latex": [
       "$\\displaystyle \\left[\\begin{matrix}0.25 z_{a} + 0.25 z_{b} + 0.25 zz + 0.25 & 0.25 x_{b} - 0.25 i xy - 0.25 i y_{b} + 0.25 zx & 0.25 x_{a} + 0.25 xz - 0.25 i y_{a} - 0.25 i yz & 0.25 xx - 0.25 i xy - 0.25 i yx - 0.25 yy\\\\0.25 x_{b} + 0.25 i xy + 0.25 i y_{b} + 0.25 zx & 0.25 z_{a} - 0.25 z_{b} - 0.25 zz + 0.25 & 0.25 xx + 0.25 i xy - 0.25 i yx + 0.25 yy & 0.25 x_{a} - 0.25 xz - 0.25 i y_{a} + 0.25 i yz\\\\0.25 x_{a} + 0.25 xz + 0.25 i y_{a} + 0.25 i yz & 0.25 xx - 0.25 i xy + 0.25 i yx + 0.25 yy & - 0.25 z_{a} + 0.25 z_{b} - 0.25 zz + 0.25 & 0.25 x_{b} + 0.25 i xy - 0.25 i y_{b} - 0.25 zx\\\\0.25 xx + 0.25 i xy + 0.25 i yx - 0.25 yy & 0.25 x_{a} - 0.25 xz + 0.25 i y_{a} - 0.25 i yz & 0.25 x_{b} - 0.25 i xy + 0.25 i y_{b} - 0.25 zx & - 0.25 z_{a} - 0.25 z_{b} + 0.25 zz + 0.25\\end{matrix}\\right]$"
      ],
      "text/plain": [
       "Matrix([\n",
       "[       0.25*z_a + 0.25*z_b + 0.25*zz + 0.25, 0.25*x_b - 0.25*I*xy - 0.25*I*y_b + 0.25*zx, 0.25*x_a + 0.25*xz - 0.25*I*y_a - 0.25*I*yz,   0.25*xx - 0.25*I*xy - 0.25*I*yx - 0.25*yy],\n",
       "[0.25*x_b + 0.25*I*xy + 0.25*I*y_b + 0.25*zx,        0.25*z_a - 0.25*z_b - 0.25*zz + 0.25,   0.25*xx + 0.25*I*xy - 0.25*I*yx + 0.25*yy, 0.25*x_a - 0.25*xz - 0.25*I*y_a + 0.25*I*yz],\n",
       "[0.25*x_a + 0.25*xz + 0.25*I*y_a + 0.25*I*yz,   0.25*xx - 0.25*I*xy + 0.25*I*yx + 0.25*yy,       -0.25*z_a + 0.25*z_b - 0.25*zz + 0.25, 0.25*x_b + 0.25*I*xy - 0.25*I*y_b - 0.25*zx],\n",
       "[  0.25*xx + 0.25*I*xy + 0.25*I*yx - 0.25*yy, 0.25*x_a - 0.25*xz + 0.25*I*y_a - 0.25*I*yz, 0.25*x_b - 0.25*I*xy + 0.25*I*y_b - 0.25*zx,       -0.25*z_a - 0.25*z_b + 0.25*zz + 0.25]])"
      ]
     },
     "execution_count": 6,
     "metadata": {},
     "output_type": "execute_result"
    }
   ],
   "source": [
    "X = Matrix([[0,1],[1,0]])\n",
    "Y = Matrix([[0,-1j],[1j,0]])\n",
    "Z = Matrix([[1,0],[0,-1]])\n",
    "I = Matrix([[1,0],[0,1]])\n",
    "xa,ya,za,xb,yb,zb = symbols('x_a y_a z_a x_b y_b z_b')\n",
    "xx,xy,xz,yx,yy,yz,zx,zy,zz = symbols('xx xy xz yx yy yz zx zy zz')\n",
    "rho_ab = (1/4)*(tp(I,I) + xa*tp(X,I) + ya*tp(Y,I) + za*tp(Z,I) + xb*tp(I,X) + yb*tp(I,Y) + zb*tp(I,Z))\n",
    "rho_ab += (1/4)*(xx*tp(X,X) + xy*tp(X,Y) + xz*tp(X,Z) + yx*tp(Y,X) + yy*tp(Y,Y) + yz*tp(Y,Z))\n",
    "rho_ab += (1/4)*(zx*tp(Z,X) + xy*tp(Z,Y) + zz*tp(Z,Z))\n",
    "rho_ab"
   ]
  },
  {
   "cell_type": "code",
   "execution_count": 7,
   "id": "d6607fa7",
   "metadata": {},
   "outputs": [
    {
     "data": {
      "text/latex": [
       "$\\displaystyle 1.0$"
      ],
      "text/plain": [
       "1.00000000000000"
      ]
     },
     "execution_count": 7,
     "metadata": {},
     "output_type": "execute_result"
    }
   ],
   "source": [
    "trace(rho_ab)"
   ]
  },
  {
   "cell_type": "markdown",
   "id": "b443aa8e",
   "metadata": {},
   "source": [
    "## Traço, traço parcial e matriz densidade reduzida\n",
    "O traço de uma matriz é a soma dos elementos em sua diagonal principal\n",
    "\\begin{equation}\n",
    "Tr(A) = \\sum_{j}A_{j,j} = \\sum_{j}\\langle \\Psi_{j}|A|\\Psi_{j}\\rangle,\n",
    "\\end{equation}\n",
    "com $\\{\\Psi_{j}\\}$ sendo uma base qualquer do espaço onde a matriz $A$ está definida.\n",
    "\n",
    "A função traço parcial é definida por\n",
    "\\begin{align}\n",
    "& \\rho_{a} = Tr_{b}(\\rho_{ab})= \\sum_{j=1}^{d_{b}}(I\\otimes\\langle b_{j}|)\\rho_{ab}(I\\otimes|b_{j}\\rangle), \\\\\n",
    "& \\rho_{b} = \\sum_{j=1}^{d_{a}}(\\langle a_{j}|\\otimes I)\\rho_{ab}(|a_{j}\\rangle\\otimes I).\n",
    "\\end{align}"
   ]
  },
  {
   "cell_type": "code",
   "execution_count": 8,
   "id": "4477fb69",
   "metadata": {},
   "outputs": [],
   "source": [
    "def ptraceA(da, db, rho):\n",
    "    rhoB = zeros(db,db)\n",
    "    for j in range(0, db):\n",
    "        for k in range(0, db):\n",
    "            for l in range(0, da):\n",
    "                rhoB[j,k] += rho[l*db+j,l*db+k]\n",
    "    return rhoB\n",
    "def ptraceB(da, db, rho):\n",
    "    rhoA = zeros(da,da)\n",
    "    for j in range(0, da):\n",
    "        for k in range(0, da):\n",
    "            for l in range(0, db):\n",
    "                rhoA[j,k] += rho[j*db+l,k*db+l]\n",
    "    return rhoA"
   ]
  },
  {
   "cell_type": "code",
   "execution_count": 9,
   "id": "281d6cc6",
   "metadata": {},
   "outputs": [
    {
     "data": {
      "text/latex": [
       "$\\displaystyle \\left[\\begin{matrix}0.5 z_{a} + 0.5 & 0.5 x_{a} - 0.5 i y_{a}\\\\0.5 x_{a} + 0.5 i y_{a} & 0.5 - 0.5 z_{a}\\end{matrix}\\right]$"
      ],
      "text/plain": [
       "Matrix([\n",
       "[      0.5*z_a + 0.5, 0.5*x_a - 0.5*I*y_a],\n",
       "[0.5*x_a + 0.5*I*y_a,       0.5 - 0.5*z_a]])"
      ]
     },
     "execution_count": 9,
     "metadata": {},
     "output_type": "execute_result"
    }
   ],
   "source": [
    "rho_a = ptraceB(2, 2, rho_ab); rho_a"
   ]
  },
  {
   "cell_type": "code",
   "execution_count": 10,
   "id": "426e227d",
   "metadata": {},
   "outputs": [
    {
     "data": {
      "text/latex": [
       "$\\displaystyle \\left[\\begin{matrix}0.5 z_{b} + 0.5 & 0.5 x_{b} - 0.5 i y_{b}\\\\0.5 x_{b} + 0.5 i y_{b} & 0.5 - 0.5 z_{b}\\end{matrix}\\right]$"
      ],
      "text/plain": [
       "Matrix([\n",
       "[      0.5*z_b + 0.5, 0.5*x_b - 0.5*I*y_b],\n",
       "[0.5*x_b + 0.5*I*y_b,       0.5 - 0.5*z_b]])"
      ]
     },
     "execution_count": 10,
     "metadata": {},
     "output_type": "execute_result"
    }
   ],
   "source": [
    "rho_b = ptraceA(2, 2, rho_ab); rho_b"
   ]
  },
  {
   "cell_type": "markdown",
   "id": "c4453d31",
   "metadata": {},
   "source": [
    "Ou seja\n",
    "\\begin{align}\n",
    "& \\rho_{a} = \\frac{1}{2}\\big(I+x_{a}X+y_{a}Y+z_{a}Z\\big), \\\\\n",
    "& \\rho_{b} = \\frac{1}{2}\\big(I+x_{b}X+y_{b}Y+z_{b}Z\\big).\n",
    "\\end{align}"
   ]
  },
  {
   "cell_type": "markdown",
   "id": "bfd2dbf9",
   "metadata": {},
   "source": [
    "## Aplicando a SWAP"
   ]
  },
  {
   "cell_type": "code",
   "execution_count": 12,
   "id": "b69d5092-f654-4341-8efc-d609cebbca74",
   "metadata": {},
   "outputs": [],
   "source": [
    "def cb(n,j):\n",
    "    '''retorna um vetor da base padrão de C^n'''\n",
    "    vec = zeros(n,1)\n",
    "    vec[j] = 1\n",
    "    return vec"
   ]
  },
  {
   "cell_type": "code",
   "execution_count": 14,
   "id": "d043349f-858a-487a-8bd0-c641c81b96e1",
   "metadata": {},
   "outputs": [],
   "source": [
    "def pauli(j):\n",
    "    '''retorna as matrizes de Pauli'''\n",
    "    if j == 1:\n",
    "        return Matrix([[0,1],[1,0]])\n",
    "    elif j == 2:\n",
    "        return Matrix([[0,-1j],[1j,0]])\n",
    "    elif j == 3:\n",
    "        return Matrix([[1,0],[0,-1]])"
   ]
  },
  {
   "cell_type": "code",
   "execution_count": 16,
   "id": "7c6285ed-2733-4d35-b43c-0be0941ff0f0",
   "metadata": {},
   "outputs": [],
   "source": [
    "def proj(psi): \n",
    "    '''retorna o projeto no vetor psi'''\n",
    "    d = psi.shape[0]\n",
    "    P = zeros(d,d)\n",
    "    for j in range(0,d):\n",
    "        for k in range(0,d):\n",
    "            P[j,k] = psi[j]*conjugate(psi[k])\n",
    "    return P"
   ]
  },
  {
   "cell_type": "code",
   "execution_count": 19,
   "id": "630130da-635a-4825-b2d9-0f6bc10684dd",
   "metadata": {},
   "outputs": [],
   "source": [
    "def id(n): \n",
    "    '''retorna a matriz identidade nxn'''\n",
    "    id = zeros(n,n)\n",
    "    for j in range(0,n):\n",
    "       id[j,j] = 1\n",
    "    return id"
   ]
  },
  {
   "cell_type": "code",
   "execution_count": 20,
   "id": "908247a3",
   "metadata": {},
   "outputs": [
    {
     "data": {
      "text/latex": [
       "$\\displaystyle \\left[\\begin{matrix}1 & 0 & 0 & 0\\\\0 & 0 & 1 & 0\\\\0 & 1 & 0 & 0\\\\0 & 0 & 0 & 1\\end{matrix}\\right]$"
      ],
      "text/plain": [
       "Matrix([\n",
       "[1, 0, 0, 0],\n",
       "[0, 0, 1, 0],\n",
       "[0, 1, 0, 0],\n",
       "[0, 0, 0, 1]])"
      ]
     },
     "execution_count": 20,
     "metadata": {},
     "output_type": "execute_result"
    }
   ],
   "source": [
    "CX_ab = tp(proj(cb(2,0)),id(2)) + tp(proj(cb(2,1)),pauli(1))#; CX_ab\n",
    "CX_ba = tp(id(2),proj(cb(2,0))) + tp(pauli(1),proj(cb(2,1)))#; CX_ba\n",
    "SWAP = CX_ab*CX_ba*CX_ab; SWAP\n",
    "#SWAP = CX_ba*CX_ab*CX_ba; SWAP"
   ]
  },
  {
   "cell_type": "markdown",
   "id": "63f37c62",
   "metadata": {},
   "source": [
    "$$\\rho_{ab}^{swap} = (SWAP)\\rho_{ab}(SWAP)^{\\dagger}$$"
   ]
  },
  {
   "cell_type": "code",
   "execution_count": 21,
   "id": "18c2d06f",
   "metadata": {},
   "outputs": [],
   "source": [
    "# aplica a troca ao estado de 2 qubits\n",
    "rho_ab_swap = SWAP*rho_ab*SWAP # pois a SWAP é hermitiana"
   ]
  },
  {
   "cell_type": "code",
   "execution_count": 22,
   "id": "3c65bfe4",
   "metadata": {},
   "outputs": [
    {
     "data": {
      "text/latex": [
       "$\\displaystyle \\left[\\begin{matrix}0.5 z_{b} + 0.5 & 0.5 x_{b} - 0.5 i y_{b}\\\\0.5 x_{b} + 0.5 i y_{b} & 0.5 - 0.5 z_{b}\\end{matrix}\\right]$"
      ],
      "text/plain": [
       "Matrix([\n",
       "[      0.5*z_b + 0.5, 0.5*x_b - 0.5*I*y_b],\n",
       "[0.5*x_b + 0.5*I*y_b,       0.5 - 0.5*z_b]])"
      ]
     },
     "execution_count": 22,
     "metadata": {},
     "output_type": "execute_result"
    }
   ],
   "source": [
    "# verificação que a troca ocorreu\n",
    "rho_a_swap = ptraceB(2, 2, rho_ab_swap); rho_a_swap"
   ]
  },
  {
   "cell_type": "code",
   "execution_count": 23,
   "id": "07d9e75b",
   "metadata": {},
   "outputs": [
    {
     "data": {
      "text/latex": [
       "$\\displaystyle \\left[\\begin{matrix}0.5 z_{a} + 0.5 & 0.5 x_{a} - 0.5 i y_{a}\\\\0.5 x_{a} + 0.5 i y_{a} & 0.5 - 0.5 z_{a}\\end{matrix}\\right]$"
      ],
      "text/plain": [
       "Matrix([\n",
       "[      0.5*z_a + 0.5, 0.5*x_a - 0.5*I*y_a],\n",
       "[0.5*x_a + 0.5*I*y_a,       0.5 - 0.5*z_a]])"
      ]
     },
     "execution_count": 23,
     "metadata": {},
     "output_type": "execute_result"
    }
   ],
   "source": [
    "rho_b_swap = ptraceA(2, 2, rho_ab_swap); rho_b_swap"
   ]
  },
  {
   "cell_type": "markdown",
   "id": "36ec15bc",
   "metadata": {},
   "source": [
    "Ou seja\n",
    "$$\\rho_{a}^{swap}=\\rho_{b} \\text{ e } \\rho_{b}^{swap}=\\rho_{a}.$$"
   ]
  },
  {
   "cell_type": "markdown",
   "id": "658843b6",
   "metadata": {},
   "source": [
    "### Traço parcial calculado numericamente\n",
    "Precisaremos dessas funções para os dados obtidos dos experimentos e simulações."
   ]
  },
  {
   "cell_type": "code",
   "execution_count": 24,
   "id": "34d066a2",
   "metadata": {},
   "outputs": [],
   "source": [
    "def pTraceL_num(dl, dr, rhoLR):\n",
    "    # Returns the left partial trace over the 'left' subsystem of rhoLR\n",
    "    rhoR = np.zeros((dr, dr), dtype=complex)\n",
    "    for j in range(0, dr):\n",
    "        for k in range(j, dr):\n",
    "            for l in range(0, dl):\n",
    "                rhoR[j,k] += rhoLR[l*dr+j,l*dr+k]\n",
    "            if j != k:\n",
    "                rhoR[k,j] = np.conj(rhoR[j,k])\n",
    "    return rhoR\n",
    "\n",
    "\n",
    "def pTraceR_num(dl, dr, rhoLR):\n",
    "    # Returns the right partial trace over the 'right' subsystem of rhoLR\n",
    "    rhoL = np.zeros((dl, dl), dtype=complex)\n",
    "    for j in range(0, dl):\n",
    "        for k in range(j, dl):\n",
    "            for l in range(0, dr):\n",
    "                rhoL[j,k] += rhoLR[j*dr+l,k*dr+l]\n",
    "        if j != k:\n",
    "            rhoL[k,j] = np.conj(rhoL[j,k])\n",
    "    return rhoL"
   ]
  },
  {
   "cell_type": "markdown",
   "id": "5d3353ed",
   "metadata": {},
   "source": [
    "## Simulação e implementação experimental da troca de estados\n",
    "\n",
    "Vamos considerar \n",
    "\\begin{align}\n",
    "& \\rho_{a} = |0\\rangle\\langle 0| = \\begin{bmatrix}1&0\\\\0&0 \\end{bmatrix}, \\\\\n",
    "& \\rho_{b} = |\\oplus\\rangle\\langle \\oplus| = \\begin{bmatrix}1/2&-i/2\\\\i/2&1/2 \\end{bmatrix}.\n",
    "\\end{align}"
   ]
  },
  {
   "cell_type": "markdown",
   "id": "b39b7d7b",
   "metadata": {},
   "source": [
    "### Simulação"
   ]
  },
  {
   "cell_type": "code",
   "execution_count": 43,
   "id": "2afa6a68",
   "metadata": {},
   "outputs": [],
   "source": [
    "from qiskit import *\n",
    "qr = QuantumRegister(2)\n",
    "qc = QuantumCircuit(qr)"
   ]
  },
  {
   "cell_type": "markdown",
   "id": "d313b396",
   "metadata": {},
   "source": [
    "#### Preparação dos estados"
   ]
  },
  {
   "cell_type": "code",
   "execution_count": 44,
   "id": "5f35e3d3",
   "metadata": {},
   "outputs": [
    {
     "data": {
      "image/png": "[encoded data removed]",
      "text/plain": [
       "<Figure size 342.39x200.667 with 1 Axes>"
      ]
     },
     "execution_count": 44,
     "metadata": {},
     "output_type": "execute_result"
    }
   ],
   "source": [
    "qc.h(qr[1])\n",
    "qc.s(qr[1])\n",
    "qc.draw('mpl')"
   ]
  },
  {
   "cell_type": "markdown",
   "id": "696b122e",
   "metadata": {
    "tags": []
   },
   "source": [
    "##### Para a TEQ do circuito acima"
   ]
  },
  {
   "cell_type": "code",
   "execution_count": 45,
   "id": "3f50d6e6",
   "metadata": {},
   "outputs": [],
   "source": [
    "import qiskit\n",
    "from qiskit.ignis.verification.tomography import state_tomography_circuits, StateTomographyFitter\n",
    "nshots = 8192\n",
    "qstc = state_tomography_circuits(qc, [qr[0],qr[1]]); # circuito para TEQ\n",
    "simulator = Aer.get_backend('qasm_simulator')\n",
    "job = qiskit.execute(qstc, backend = simulator, shots=nshots) # executa no simulador\n",
    "qstf = StateTomographyFitter(job.result(), qstc) # ajusta os dados\n",
    "rhoBA = qstf.fit(method='lstsq') # Note a ordem trocada que vem da função para tomografia de estados\n",
    "#rhoBA # extrai o operador densidade"
   ]
  },
  {
   "cell_type": "code",
   "execution_count": 46,
   "id": "177e357f",
   "metadata": {},
   "outputs": [
    {
     "data": {
      "text/plain": [
       "array([[0.9971901 +0.j        , 0.00282164+0.00703214j],\n",
       "       [0.00282164-0.00703214j, 0.0028099 +0.j        ]])"
      ]
     },
     "execution_count": 46,
     "metadata": {},
     "output_type": "execute_result"
    }
   ],
   "source": [
    "import numpy as np\n",
    "rhoA = pTraceL_num(2, 2, rhoBA)\n",
    "rhoA"
   ]
  },
  {
   "cell_type": "code",
   "execution_count": 47,
   "id": "708c7fb0",
   "metadata": {},
   "outputs": [
    {
     "data": {
      "text/plain": [
       "array([[ 0.49813916+0.j        , -0.00146047-0.49722949j],\n",
       "       [-0.00146047+0.49722949j,  0.50186084+0.j        ]])"
      ]
     },
     "execution_count": 47,
     "metadata": {},
     "output_type": "execute_result"
    }
   ],
   "source": [
    "rhoB = pTraceR_num(2, 2, rhoBA)\n",
    "rhoB"
   ]
  },
  {
   "cell_type": "markdown",
   "id": "8597b632",
   "metadata": {},
   "source": [
    "#### Fazendo o swap dos estados"
   ]
  },
  {
   "cell_type": "code",
   "execution_count": 48,
   "id": "caac830b",
   "metadata": {},
   "outputs": [
    {
     "data": {
      "image/png": "[encoded data removed]",
      "text/plain": [
       "<Figure size 426.001x200.667 with 1 Axes>"
      ]
     },
     "execution_count": 48,
     "metadata": {},
     "output_type": "execute_result"
    }
   ],
   "source": [
    "qc.swap(0,1)\n",
    "qc.draw('mpl')"
   ]
  },
  {
   "cell_type": "code",
   "execution_count": 49,
   "id": "ea56ebb5",
   "metadata": {},
   "outputs": [
    {
     "data": {
      "image/png": "[encoded data removed]",
      "text/plain": [
       "<Figure size 593.223x200.667 with 1 Axes>"
      ]
     },
     "execution_count": 49,
     "metadata": {},
     "output_type": "execute_result"
    }
   ],
   "source": [
    "qc.decompose().draw('mpl')"
   ]
  },
  {
   "cell_type": "code",
   "execution_count": 50,
   "id": "985966bc",
   "metadata": {},
   "outputs": [],
   "source": [
    "qstc = state_tomography_circuits(qc, [qr[0],qr[1]]); # circuito para TEQ\n",
    "job = qiskit.execute(qstc, Aer.get_backend('qasm_simulator'), shots=nshots) # executa no simulador\n",
    "qstf = StateTomographyFitter(job.result(), qstc) # ajusta os dados\n",
    "rhoBA = qstf.fit(method='lstsq'); # extrai o operador densidade"
   ]
  },
  {
   "cell_type": "code",
   "execution_count": 51,
   "id": "956d3d52",
   "metadata": {},
   "outputs": [
    {
     "data": {
      "text/plain": [
       "array([[5.01067077e-01+0.j        , 1.54419695e-04-0.49735643j],\n",
       "       [1.54419695e-04+0.49735643j, 4.98932923e-01+0.j        ]])"
      ]
     },
     "execution_count": 51,
     "metadata": {},
     "output_type": "execute_result"
    }
   ],
   "source": [
    "rhoA = pTraceL_num(2, 2, rhoBA); rhoA"
   ]
  },
  {
   "cell_type": "code",
   "execution_count": 52,
   "id": "f8c52c97",
   "metadata": {},
   "outputs": [
    {
     "data": {
      "text/plain": [
       "array([[0.99730212+0.j        , 0.00685696+0.00505693j],\n",
       "       [0.00685696-0.00505693j, 0.00269788+0.j        ]])"
      ]
     },
     "execution_count": 52,
     "metadata": {},
     "output_type": "execute_result"
    }
   ],
   "source": [
    "rhoB = pTraceR_num(2, 2, rhoBA); rhoB"
   ]
  },
  {
   "cell_type": "markdown",
   "id": "90cdb0d2",
   "metadata": {},
   "source": [
    "### Experimento"
   ]
  },
  {
   "cell_type": "markdown",
   "id": "25a40f25",
   "metadata": {},
   "source": [
    "##### Preparação dos estados"
   ]
  },
  {
   "cell_type": "code",
   "execution_count": 53,
   "id": "6ca7714d",
   "metadata": {},
   "outputs": [
    {
     "data": {
      "image/png": "[encoded data removed]",
      "text/plain": [
       "<Figure size 426.001x200.667 with 1 Axes>"
      ]
     },
     "execution_count": 53,
     "metadata": {},
     "output_type": "execute_result"
    }
   ],
   "source": [
    "qr = QuantumRegister(2)\n",
    "qc = QuantumCircuit(qr)\n",
    "qc.h(qr[1])\n",
    "qc.s(qr[1])\n",
    "qc.barrier()\n",
    "qc.draw('mpl')"
   ]
  },
  {
   "cell_type": "code",
   "execution_count": 81,
   "id": "430c7d3e",
   "metadata": {},
   "outputs": [],
   "source": [
    "qiskit.IBMQ.load_account();\n",
    "provider = IBMQ.get_provider(hub = 'ibm-q-research-2', group = 'federal-uni-sant-1', project = 'main')\n",
    "device = provider.get_backend('ibmq_belem')\n",
    "from qiskit.tools.monitor import job_monitor"
   ]
  },
  {
   "cell_type": "code",
   "execution_count": 82,
   "id": "1638c0c5",
   "metadata": {},
   "outputs": [
    {
     "name": "stdout",
     "output_type": "stream",
     "text": [
      "61841ca06e4da211ea9b5b9e\n",
      "Job Status: job has successfully run\n"
     ]
    }
   ],
   "source": [
    "qstc = state_tomography_circuits(qc, [qr[0],qr[1]]); # circuito para TEQ\n",
    "job = qiskit.execute(qstc, backend = device, shots = nshots)\n",
    "print(job.job_id()); job_monitor(job)"
   ]
  },
  {
   "cell_type": "code",
   "execution_count": 83,
   "id": "b74b7222",
   "metadata": {},
   "outputs": [
    {
     "data": {
      "text/plain": [
       "array([[0.99352204+0.j        , 0.02644131-0.06014646j],\n",
       "       [0.02644131+0.06014646j, 0.00647796+0.j        ]])"
      ]
     },
     "execution_count": 83,
     "metadata": {},
     "output_type": "execute_result"
    }
   ],
   "source": [
    "qstf = StateTomographyFitter(job.result(), qstc) # ajusta os dados\n",
    "rhoBA = qstf.fit(method='lstsq'); # extrai o operador densidade\n",
    "rhoA = pTraceL_num(2, 2, rhoBA); rhoA"
   ]
  },
  {
   "cell_type": "code",
   "execution_count": 84,
   "id": "82682697",
   "metadata": {},
   "outputs": [
    {
     "data": {
      "text/plain": [
       "array([[0.52465211+0.j        , 0.03226595-0.48297778j],\n",
       "       [0.03226595+0.48297778j, 0.47534789+0.j        ]])"
      ]
     },
     "execution_count": 84,
     "metadata": {},
     "output_type": "execute_result"
    }
   ],
   "source": [
    "rhoB = pTraceR_num(2, 2, rhoBA); rhoB"
   ]
  },
  {
   "cell_type": "markdown",
   "id": "4ff0169e",
   "metadata": {},
   "source": [
    "##### Troca dos estados"
   ]
  },
  {
   "cell_type": "code",
   "execution_count": 54,
   "id": "7c84e336",
   "metadata": {},
   "outputs": [
    {
     "data": {
      "text/plain": [
       "<qiskit.circuit.instructionset.InstructionSet at 0x21fa4f5ae80>"
      ]
     },
     "execution_count": 54,
     "metadata": {},
     "output_type": "execute_result"
    }
   ],
   "source": [
    "qc.swap(qr[0],qr[1])"
   ]
  },
  {
   "cell_type": "code",
   "execution_count": 55,
   "id": "56dea6a6",
   "metadata": {},
   "outputs": [
    {
     "data": {
      "image/png": "[encoded data removed]",
      "text/plain": [
       "<Figure size 509.612x200.667 with 1 Axes>"
      ]
     },
     "execution_count": 55,
     "metadata": {},
     "output_type": "execute_result"
    }
   ],
   "source": [
    "qc.draw('mpl')"
   ]
  },
  {
   "cell_type": "code",
   "execution_count": 91,
   "id": "7539f8cc",
   "metadata": {},
   "outputs": [
    {
     "name": "stdout",
     "output_type": "stream",
     "text": [
      "61841d516e4da2c4c09b5bad\n",
      "Job Status: job has successfully run\n"
     ]
    }
   ],
   "source": [
    "qstc = state_tomography_circuits(qc, [qr[0],qr[1]]); # circuito para TEQ\n",
    "job = qiskit.execute(qstc, backend = device, shots = nshots)\n",
    "print(job.job_id()); job_monitor(job)"
   ]
  },
  {
   "cell_type": "code",
   "execution_count": 92,
   "id": "7899b295",
   "metadata": {},
   "outputs": [
    {
     "data": {
      "text/plain": [
       "array([[0.51277093+0.j       , 0.0100801 -0.4409531j],\n",
       "       [0.0100801 +0.4409531j, 0.48722907+0.j       ]])"
      ]
     },
     "execution_count": 92,
     "metadata": {},
     "output_type": "execute_result"
    }
   ],
   "source": [
    "qstf = StateTomographyFitter(job.result(), qstc) # ajusta os dados\n",
    "rhoBA = qstf.fit(method='lstsq'); # extrai o operador densidade\n",
    "rhoA = pTraceL_num(2, 2, rhoBA); rhoA"
   ]
  },
  {
   "cell_type": "code",
   "execution_count": 93,
   "id": "5bd53488",
   "metadata": {},
   "outputs": [
    {
     "data": {
      "text/plain": [
       "array([[0.93142851+0.j       , 0.03019276-0.0574553j],\n",
       "       [0.03019276+0.0574553j, 0.06857149+0.j       ]])"
      ]
     },
     "execution_count": 93,
     "metadata": {},
     "output_type": "execute_result"
    }
   ],
   "source": [
    "rhoB = pTraceR_num(2, 2, rhoBA); rhoB"
   ]
  }
 ],
 "metadata": {
  "kernelspec": {
   "display_name": "Python 3 (ipykernel)",
   "language": "python",
   "name": "python3"
  },
  "language_info": {
   "codemirror_mode": {
    "name": "ipython",
    "version": 3
   },
   "file_extension": ".py",
   "mimetype": "text/x-python",
   "name": "python",
   "nbconvert_exporter": "python",
   "pygments_lexer": "ipython3",
   "version": "3.9.13"
  }
 },
 "nbformat": 4,
 "nbformat_minor": 5
}
